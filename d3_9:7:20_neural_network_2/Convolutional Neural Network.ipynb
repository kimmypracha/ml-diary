{
 "cells": [
  {
   "cell_type": "markdown",
   "metadata": {},
   "source": [
    "<h1> Convolutional Neural Network</h1>"
   ]
  },
  {
   "cell_type": "code",
   "execution_count": null,
   "metadata": {},
   "outputs": [],
   "source": [
    "# Definition & Explanation"
   ]
  },
  {
   "cell_type": "markdown",
   "metadata": {},
   "source": [
    "<h2> Convolutional Layer</h2>\n",
    "\n",
    "Convolutional layer extract a feature from an image. Convolutional layer preserve the relationship between pixel by learning from small square of picture.\n",
    "See more animation at : \n",
    "\n",
    "https://medium.com/@RaghavPrabhu/understanding-of-convolutional-neural-network-cnn-deep-learning-99760835f148"
   ]
  },
  {
   "cell_type": "markdown",
   "metadata": {},
   "source": [
    "<h2> Important Keyword about CNN</h2>\n",
    "\n",
    "<h3> Strides </h3>\n",
    "\n",
    "Strides is the number of shift over an input matrix. If strides is 1, we'll move a filter 1 pixel at a time. If strides is 2, we'll move 2 pixel at a time. and so on.\n",
    "\n",
    "\n",
    "<h3> Padding </h3>\n",
    "\n",
    "Sometimes, the filter doesn't perfectly fit the input matrix. There are some option that we can do: \n",
    "\n",
    "1. Add some zero padding to the input matrix to fit the filter size.\n",
    "\n",
    "2. Drop the part of input where filter doesn't fit.\n",
    "\n",
    "<h3> ReLU </h3>\n",
    "\n",
    "ReLU (Rectified Linear Unit) can evaluate from this function : $f(x) = max(0,x)$\n",
    "Why is it important ?  : ReLU can help the output become non-negative that ConV can learn like the real world data. (I'll edit later.)\n",
    "\n",
    "<h3> Pooling Layer </h3>\n",
    "\n",
    "Pooling sometimes can be called subsampling. This layer can help to reduce dimension of the image. Since the image size can be really huge. So it's important to reduce the size, but still keep important information. So that's how polling layer work. Pooling can have different types.\n",
    "\n",
    "1. Max Pooling\n",
    "\n",
    "2. Average Pooling\n",
    "\n",
    "3. Sum Pooling\n",
    "\n",
    "<h3> Fully Connected Layer</h3>\n",
    "\n",
    "We will flatten the matrix into the vector, and feed it into fully connected layer. Comparing to standard neural network, it is a hidden layer. (Also, don't forget to use an activation function to give an input for classification.)"
   ]
  },
  {
   "cell_type": "code",
   "execution_count": 1,
   "metadata": {},
   "outputs": [],
   "source": [
    "import tensorflow as tf\n",
    "\n",
    "mnist = tf.keras.datasets.mnist\n",
    "\n",
    "(x_train, y_train), (x_test, y_test) = mnist.load_data()"
   ]
  },
  {
   "cell_type": "code",
   "execution_count": null,
   "metadata": {},
   "outputs": [],
   "source": [
    "import torch.nn as nn\n",
    "nn.MaxPool2d()"
   ]
  },
  {
   "cell_type": "code",
   "execution_count": 15,
   "metadata": {},
   "outputs": [
    {
     "data": {
      "text/plain": [
       "tensor([[[[0., 0., 0.,  ..., 0., 0., 0.],\n",
       "          [0., 0., 0.,  ..., 0., 0., 0.],\n",
       "          [0., 0., 0.,  ..., 0., 0., 0.],\n",
       "          ...,\n",
       "          [0., 0., 0.,  ..., 0., 0., 0.],\n",
       "          [0., 0., 0.,  ..., 0., 0., 0.],\n",
       "          [0., 0., 0.,  ..., 0., 0., 0.]]],\n",
       "\n",
       "\n",
       "        [[[0., 0., 0.,  ..., 0., 0., 0.],\n",
       "          [0., 0., 0.,  ..., 0., 0., 0.],\n",
       "          [0., 0., 0.,  ..., 0., 0., 0.],\n",
       "          ...,\n",
       "          [0., 0., 0.,  ..., 0., 0., 0.],\n",
       "          [0., 0., 0.,  ..., 0., 0., 0.],\n",
       "          [0., 0., 0.,  ..., 0., 0., 0.]]],\n",
       "\n",
       "\n",
       "        [[[0., 0., 0.,  ..., 0., 0., 0.],\n",
       "          [0., 0., 0.,  ..., 0., 0., 0.],\n",
       "          [0., 0., 0.,  ..., 0., 0., 0.],\n",
       "          ...,\n",
       "          [0., 0., 0.,  ..., 0., 0., 0.],\n",
       "          [0., 0., 0.,  ..., 0., 0., 0.],\n",
       "          [0., 0., 0.,  ..., 0., 0., 0.]]],\n",
       "\n",
       "\n",
       "        ...,\n",
       "\n",
       "\n",
       "        [[[0., 0., 0.,  ..., 0., 0., 0.],\n",
       "          [0., 0., 0.,  ..., 0., 0., 0.],\n",
       "          [0., 0., 0.,  ..., 0., 0., 0.],\n",
       "          ...,\n",
       "          [0., 0., 0.,  ..., 0., 0., 0.],\n",
       "          [0., 0., 0.,  ..., 0., 0., 0.],\n",
       "          [0., 0., 0.,  ..., 0., 0., 0.]]],\n",
       "\n",
       "\n",
       "        [[[0., 0., 0.,  ..., 0., 0., 0.],\n",
       "          [0., 0., 0.,  ..., 0., 0., 0.],\n",
       "          [0., 0., 0.,  ..., 0., 0., 0.],\n",
       "          ...,\n",
       "          [0., 0., 0.,  ..., 0., 0., 0.],\n",
       "          [0., 0., 0.,  ..., 0., 0., 0.],\n",
       "          [0., 0., 0.,  ..., 0., 0., 0.]]],\n",
       "\n",
       "\n",
       "        [[[0., 0., 0.,  ..., 0., 0., 0.],\n",
       "          [0., 0., 0.,  ..., 0., 0., 0.],\n",
       "          [0., 0., 0.,  ..., 0., 0., 0.],\n",
       "          ...,\n",
       "          [0., 0., 0.,  ..., 0., 0., 0.],\n",
       "          [0., 0., 0.,  ..., 0., 0., 0.],\n",
       "          [0., 0., 0.,  ..., 0., 0., 0.]]]])"
      ]
     },
     "execution_count": 15,
     "metadata": {},
     "output_type": "execute_result"
    }
   ],
   "source": [
    "import torch\n",
    "import torch.nn as nn\n",
    "model = nn.Sequential(nn.Conv2d(1,20,5),\n",
    "                      nn.ReLU(inplace=True),\n",
    "                      nn.MaxPool2d(kernel_size=4,stride=2),\n",
    "                      nn.Conv2d(20,20,5),\n",
    "                      nn.ReLU(inplace=True),\n",
    "                      nn.MaxPool2d(kernel_size=5,stride=2),\n",
    "                      nn.Flatten(),\n",
    "                      nn.Linear(20*2*2,10)\n",
    "                      )\n",
    "\n",
    "x = torch.from_numpy(x_train.reshape(-1,1,28,28)).float()\n",
    "x"
   ]
  },
  {
   "cell_type": "code",
   "execution_count": 16,
   "metadata": {},
   "outputs": [],
   "source": [
    "pred = model(x)"
   ]
  },
  {
   "cell_type": "code",
   "execution_count": 5,
   "metadata": {},
   "outputs": [
    {
     "data": {
      "text/plain": [
       "torch.Size([60000, 20, 2, 2])"
      ]
     },
     "execution_count": 5,
     "metadata": {},
     "output_type": "execute_result"
    }
   ],
   "source": [
    "pred.shape"
   ]
  },
  {
   "cell_type": "code",
   "execution_count": 10,
   "metadata": {},
   "outputs": [
    {
     "data": {
      "text/plain": [
       "torch.Size([60000, 20, 24, 24])"
      ]
     },
     "execution_count": 10,
     "metadata": {},
     "output_type": "execute_result"
    }
   ],
   "source": [
    "c = nn.Conv2d(1,20,5)\n",
    "test = c(x)\n",
    "test.shape"
   ]
  },
  {
   "cell_type": "code",
   "execution_count": 11,
   "metadata": {},
   "outputs": [
    {
     "data": {
      "text/plain": [
       "torch.Size([60000, 20, 24, 24])"
      ]
     },
     "execution_count": 11,
     "metadata": {},
     "output_type": "execute_result"
    }
   ],
   "source": [
    "d = nn.ReLU(inplace=True)\n",
    "test = d(test)\n",
    "test.shape"
   ]
  },
  {
   "cell_type": "code",
   "execution_count": 14,
   "metadata": {},
   "outputs": [
    {
     "data": {
      "text/plain": [
       "torch.Size([60000, 20, 10, 10])"
      ]
     },
     "execution_count": 14,
     "metadata": {},
     "output_type": "execute_result"
    }
   ],
   "source": [
    "e = nn.MaxPool2d(kernel_size=5,stride=2)\n",
    "test_e = e(test)\n",
    "test_e.shape"
   ]
  },
  {
   "cell_type": "markdown",
   "metadata": {},
   "source": [
    "As you can see, the size of output tensor from Conv2d layer can be calculated from this formula\n",
    "\n",
    "Input : \n",
    "    $(N,C_{in},H_{in},W_{in})$\n",
    "\n",
    "Output :\n",
    "    $(N,C_{out},H_{out},W_{out})$ Such that\n",
    "\n",
    "$$\n",
    "    H_\\text{out} = \\frac{H_\\text{in} + 2*\\text{padding[0]} - \\text{dilation[0]}*(\\text{kernel_size[0]}-1)-1}{stride[0]} + 1\\\\\n",
    "$$\n",
    "\n",
    "$$    \n",
    "    W_\\text{out} = \\frac{W_\\text{in} + 2*\\text{padding[1]} - \\text{dilation[1]}*(\\text{kernel_size[1]}-1)-1}{stride[1]} + 1\n",
    "$$\n",
    "\n",
    "More detailed about Conv2d Layer at : \n",
    "https://pytorch.org/docs/master/generated/torch.nn.Conv2d.html?highlight=conv2d#torch.nn.Conv2d"
   ]
  },
  {
   "cell_type": "markdown",
   "metadata": {},
   "source": [
    "And the size of max pooling layer can compute manually, or use the formula above. but The channel output will not change."
   ]
  },
  {
   "cell_type": "code",
   "execution_count": 17,
   "metadata": {},
   "outputs": [
    {
     "data": {
      "text/plain": [
       "tensor([[ 41.8000, -18.1836,  40.0346,  ..., -10.9462,  80.8663,  56.8858],\n",
       "        [ 29.4625, -13.6686,  26.7630,  ...,  -9.7602,  64.4237,  48.6019],\n",
       "        [ 22.6878,  -0.9780,  10.0272,  ..., -21.0162,  51.8152,  58.0194],\n",
       "        ...,\n",
       "        [ 30.9498, -13.0517,  22.5417,  ..., -14.4808,  78.3603,  60.4390],\n",
       "        [ 34.2517, -13.9213,  24.2298,  ..., -21.5936,  59.3391,  55.6323],\n",
       "        [ 31.3698, -12.0394,  32.1435,  ...,  -9.1115,  52.2730,  67.4138]],\n",
       "       grad_fn=<AddmmBackward>)"
      ]
     },
     "execution_count": 17,
     "metadata": {},
     "output_type": "execute_result"
    }
   ],
   "source": [
    "pred"
   ]
  },
  {
   "cell_type": "markdown",
   "metadata": {},
   "source": [
    "What you can continue on which is loss & optimizer part for the Stochastic Gradient Descent I'll not go any futher here, since those part I already wrote it on the previous notebook.\n",
    "\n",
    "and Since I run on my local machine, it is really slow. So I'll end it here."
   ]
  }
 ],
 "metadata": {
  "kernelspec": {
   "display_name": "Python 3",
   "language": "python",
   "name": "python3"
  },
  "language_info": {
   "codemirror_mode": {
    "name": "ipython",
    "version": 3
   },
   "file_extension": ".py",
   "mimetype": "text/x-python",
   "name": "python",
   "nbconvert_exporter": "python",
   "pygments_lexer": "ipython3",
   "version": "3.7.3"
  }
 },
 "nbformat": 4,
 "nbformat_minor": 2
}
